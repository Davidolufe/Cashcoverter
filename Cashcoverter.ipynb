{
 "cells": [
  {
   "cell_type": "code",
   "execution_count": 41,
   "id": "0f4e42a8-0936-4ead-b8d8-3d6a16aaa4c8",
   "metadata": {},
   "outputs": [
    {
     "name": "stdout",
     "output_type": "stream",
     "text": [
      "USD 1000 is equal to:\n",
      "- EUR 950.0\n",
      "- GBP 750.0\n",
      "- JPY 1690000\n"
     ]
    }
   ],
   "source": [
    "#Rate of exchange\n",
    "USD_2_Eur = 0.95\n",
    "USD_2_GBP = 0.75\n",
    "USD_2_Naira = 1690\n",
    "\n",
    "\n",
    "def usd_to_eur(amount):\n",
    "    return amount * USD_2_Eur\n",
    "\n",
    "def usd_to_gbp(amount):\n",
    "    return amount * USD_2_GBP\n",
    "\n",
    "def usd_to_naira(amount):\n",
    "    return amount * USD_2_Naira\n",
    "\n",
    "def main():\n",
    "    usd_amount = 1000\n",
    "    \n",
    "    eur_amount = usd_to_eur(usd_amount)\n",
    "    gbp_amount = usd_to_gbp(usd_amount)\n",
    "    naira_amount = usd_to_naira(usd_amount)\n",
    "    \n",
    "    print(f\"USD {usd_amount} is equal to:\")\n",
    "    print(f\"- EUR {eur_amount}\")\n",
    "    print(f\"- GBP {gbp_amount}\")\n",
    "    print(f\"- Naira {naira_amount}\")\n",
    "\n",
    "if __name__ == \"__main__\":\n",
    "    main()"
   ]
  },
  {
   "cell_type": "code",
   "execution_count": null,
   "id": "111afc19-0f83-4de7-8d63-1fc2f41558da",
   "metadata": {},
   "outputs": [],
   "source": []
  },
  {
   "cell_type": "code",
   "execution_count": null,
   "id": "6ecfb069-8e90-4ed0-a7e1-a82622132340",
   "metadata": {},
   "outputs": [],
   "source": []
  }
 ],
 "metadata": {
  "kernelspec": {
   "display_name": "Python 3 (ipykernel)",
   "language": "python",
   "name": "python3"
  },
  "language_info": {
   "codemirror_mode": {
    "name": "ipython",
    "version": 3
   },
   "file_extension": ".py",
   "mimetype": "text/x-python",
   "name": "python",
   "nbconvert_exporter": "python",
   "pygments_lexer": "ipython3",
   "version": "3.12.4"
  }
 },
 "nbformat": 4,
 "nbformat_minor": 5
}
